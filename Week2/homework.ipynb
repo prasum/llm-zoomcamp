{
 "cells": [
  {
   "cell_type": "markdown",
   "id": "4acf29eb-ad21-46f8-a18e-e8eb2a51fdf2",
   "metadata": {},
   "source": [
    "## Ollama version"
   ]
  },
  {
   "cell_type": "code",
   "execution_count": 2,
   "id": "4b4ad531-6987-4471-ac37-de0161cfbdb0",
   "metadata": {},
   "outputs": [
    {
     "name": "stdout",
     "output_type": "stream",
     "text": [
      "CONTAINER ID   IMAGE                          COMMAND                  CREATED         STATUS         PORTS                              NAMES\n",
      "c2977c24c4be   ollama/ollama                  \"/bin/ollama serve\"      3 minutes ago   Up 3 minutes   0.0.0.0:11434->11434/tcp           ollama\n",
      "9a02af1f8f3b   mlops-magic-platform           \"/app/run_app.sh magâ€¦\"   5 weeks ago     Up 6 minutes   0.0.0.0:6789->6789/tcp, 7789/tcp   mlops-magic-platform-1\n",
      "68063323aa00   pgvector/pgvector:0.6.0-pg16   \"docker-entrypoint.sâ€¦\"   5 weeks ago     Up 6 minutes   0.0.0.0:5432->5432/tcp             mlops-magic-database-1\n"
     ]
    }
   ],
   "source": [
    "!docker ps"
   ]
  },
  {
   "cell_type": "code",
   "execution_count": null,
   "id": "7fdb1d0f-52c3-4182-aafa-6e5fa8a4b742",
   "metadata": {},
   "outputs": [],
   "source": [
    "#!docker exec -it c2977c24c4be bash "
   ]
  },
  {
   "cell_type": "markdown",
   "id": "799a8812-f9c6-456a-9e3d-d8d79dc8a777",
   "metadata": {},
   "source": [
    "ollama version is 0.1.48"
   ]
  },
  {
   "cell_type": "markdown",
   "id": "19ad4911-610e-4a30-9c32-e1aa3f6c2f27",
   "metadata": {},
   "source": [
    "## Content of gemma 2 metadata file"
   ]
  },
  {
   "cell_type": "markdown",
   "id": "aec0b949-3e85-4d8f-a2c4-dfff7fa105fc",
   "metadata": {},
   "source": [
    "{\"schemaVersion\":2,\"mediaType\":\"application/vnd.docker.distribution.manifest.v2+json\",\"config\":{\"mediaType\":\"application/vnd.docker.container.image.v1+json\",\"digest\":\"sha256:887433b89a901c156f7e6944442f3c9e57f3c55d6ed52042cbb7303aea994290\",\"size\":483},\"layers\":[{\"mediaType\":\"application/vnd.ollama.image.model\",\"digest\":\"sha256:c1864a5eb19305c40519da12cc543519e48a0697ecd30e15d5ac228644957d12\",\"size\":1678447520},{\"mediaType\":\"application/vnd.ollama.image.license\",\"digest\":\"sha256:097a36493f718248845233af1d3fefe7a303f864fae13bc31a3a9704229378ca\",\"size\":8433},{\"mediaType\":\"application/vnd.ollama.image.template\",\"digest\":\"sha256:109037bec39c0becc8221222ae23557559bc594290945a2c4221ab4f303b8871\",\"size\":136},{\"mediaType\":\"application/vnd.ollama.image.params\",\"digest\":\"sha256:22a838ceb7fb22755a3b0ae9b4eadde629d19be1f651f73efb8c6b4e2cd0eea0\",\"size\":84}]}"
   ]
  },
  {
   "cell_type": "code",
   "execution_count": null,
   "id": "9cc535c9-8cca-44c0-9cbb-30cbfbe03304",
   "metadata": {},
   "outputs": [],
   "source": []
  },
  {
   "cell_type": "code",
   "execution_count": 2,
   "id": "deda027e-9c23-4ee7-a6a5-376de34b2175",
   "metadata": {},
   "outputs": [],
   "source": [
    "from openai import OpenAI\n",
    "client = OpenAI(\n",
    "    base_url='http://localhost:11434/v1/',\n",
    "    api_key='ollama',\n",
    ")"
   ]
  },
  {
   "cell_type": "code",
   "execution_count": 3,
   "id": "2a9a0757-b5ca-4d09-9eb8-1b516a9cb245",
   "metadata": {},
   "outputs": [
    {
     "name": "stdout",
     "output_type": "stream",
     "text": [
      "Sure, here is the answer to your question:\n",
      "\n",
      "10 * 10 = 100\n",
      "\n",
      "\n"
     ]
    }
   ],
   "source": [
    "response = client.chat.completions.create(\n",
    "    model='gemma:2b',\n",
    "    messages=[{\"role\": \"user\", \"content\": \"10 * 10\"}]\n",
    ")\n",
    "print(response.choices[0].message.content)"
   ]
  },
  {
   "cell_type": "code",
   "execution_count": null,
   "id": "84ce4559-50cc-4243-be8f-e862bdca2467",
   "metadata": {},
   "outputs": [],
   "source": []
  },
  {
   "cell_type": "markdown",
   "id": "34411394-bdd8-4fbe-bd0b-154004a776e6",
   "metadata": {},
   "source": [
    "## Downloading the weights"
   ]
  },
  {
   "cell_type": "markdown",
   "id": "994df3ed-5009-4270-9f0f-9b07bba4be47",
   "metadata": {},
   "source": [
    "1.7G"
   ]
  },
  {
   "cell_type": "code",
   "execution_count": null,
   "id": "8e021804-9c7e-4ffd-a212-f3f2d6671258",
   "metadata": {},
   "outputs": [],
   "source": []
  },
  {
   "cell_type": "markdown",
   "id": "ba79b08b-0ff5-4758-97b8-7c086d20b2e7",
   "metadata": {},
   "source": [
    "## Adding the weights"
   ]
  },
  {
   "cell_type": "code",
   "execution_count": null,
   "id": "f76c517e-c287-4665-9a74-66379f0a2207",
   "metadata": {},
   "outputs": [],
   "source": []
  },
  {
   "cell_type": "code",
   "execution_count": 4,
   "id": "a98a9d26-15a6-4522-ad11-95619993f9f8",
   "metadata": {},
   "outputs": [],
   "source": [
    "response = client.chat.completions.create(\n",
    "    model='gemma:2b',\n",
    "    temperature=0.0,\n",
    "    messages=[{\"role\": \"user\", \"content\": \"What's the formula for energy?\"}]\n",
    ")"
   ]
  },
  {
   "cell_type": "code",
   "execution_count": 5,
   "id": "832edb97-6cdb-4051-b06b-6591dd8a2a2f",
   "metadata": {},
   "outputs": [
    {
     "name": "stdout",
     "output_type": "stream",
     "text": [
      "Sure, here's the formula for energy:\n",
      "\n",
      "**E = K + U**\n",
      "\n",
      "Where:\n",
      "\n",
      "* **E** is the energy in joules (J)\n",
      "* **K** is the kinetic energy in joules (J)\n",
      "* **U** is the potential energy in joules (J)\n",
      "\n",
      "**Kinetic energy (K)** is the energy an object possesses when it moves or is in motion. It is calculated as half the product of an object's mass (m) and its velocity (v) squared:\n",
      "\n",
      "**K = 1/2mv^2**\n",
      "\n",
      "**Potential energy (U)** is the energy an object possesses due to its position or configuration. It is calculated as the product of an object's mass, gravitational constant (g), and height or position above a reference point.\n",
      "\n",
      "**U = mgh**\n",
      "\n",
      "Where:\n",
      "\n",
      "* **m** is the mass in kilograms (kg)\n",
      "* **g** is the gravitational constant (9.8 m/s^2)\n",
      "* **h** is the height or position in meters (m)\n",
      "\n",
      "The formula shows that energy can be expressed as the sum of kinetic and potential energy. The kinetic energy is a measure of the object's ability to do work, while the potential energy is a measure of the object's ability to do work against a force.\n"
     ]
    }
   ],
   "source": [
    "print(response.choices[0].message.content)"
   ]
  },
  {
   "cell_type": "code",
   "execution_count": null,
   "id": "549bc00f-7a89-4828-a9b3-a29d402d4094",
   "metadata": {},
   "outputs": [
    {
     "name": "stderr",
     "output_type": "stream",
     "text": [
      "C:\\Users\\sumeet\\anaconda3\\lib\\site-packages\\transformers\\models\\auto\\tokenization_auto.py:778: FutureWarning: The `use_auth_token` argument is deprecated and will be removed in v5 of Transformers. Please use `token` instead.\n",
      "  warnings.warn(\n"
     ]
    }
   ],
   "source": [
    "#!pip install --upgrade transformers\n",
    "import os\n",
    "from transformers import AutoTokenizer\n",
    "tokenizer = AutoTokenizer.from_pretrained(\"google/gemma-2b\",use_auth_token=os.environ[\"HF_TOKEN\"])\n",
    "tokens = tokenizer.encode(response.choices[0].message.content)\n",
    "print(len(tokens))"
   ]
  },
  {
   "cell_type": "code",
   "execution_count": null,
   "id": "f3cc59cd-8b46-4f0e-8357-8960e8d4f176",
   "metadata": {},
   "outputs": [],
   "source": []
  }
 ],
 "metadata": {
  "kernelspec": {
   "display_name": "Python 3 (ipykernel)",
   "language": "python",
   "name": "python3"
  },
  "language_info": {
   "codemirror_mode": {
    "name": "ipython",
    "version": 3
   },
   "file_extension": ".py",
   "mimetype": "text/x-python",
   "name": "python",
   "nbconvert_exporter": "python",
   "pygments_lexer": "ipython3",
   "version": "3.10.9"
  }
 },
 "nbformat": 4,
 "nbformat_minor": 5
}
